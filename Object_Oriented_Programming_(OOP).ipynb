{
  "nbformat": 4,
  "nbformat_minor": 0,
  "metadata": {
    "colab": {
      "provenance": [],
      "authorship_tag": "ABX9TyOf02qSmfl1QoljOFBocW6n",
      "include_colab_link": true
    },
    "kernelspec": {
      "name": "python3",
      "display_name": "Python 3"
    },
    "language_info": {
      "name": "python"
    }
  },
  "cells": [
    {
      "cell_type": "markdown",
      "metadata": {
        "id": "view-in-github",
        "colab_type": "text"
      },
      "source": [
        "<a href=\"https://colab.research.google.com/github/bobbykawade/Google_Colab_Python_Practice_BK/blob/main/Object_Oriented_Programming_(OOP).ipynb\" target=\"_parent\"><img src=\"https://colab.research.google.com/assets/colab-badge.svg\" alt=\"Open In Colab\"/></a>"
      ]
    },
    {
      "cell_type": "markdown",
      "source": [
        "# First Lecture Cody Schafer (Youtube)\n",
        "#### https://www.youtube.com/watch?v=ZDa-Z5JzLYM&list=PL-osiE80TeTsqhIuOqKhwlXsIBIdSeYtc"
      ],
      "metadata": {
        "id": "DmtLFp_l1sdG"
      }
    },
    {
      "cell_type": "code",
      "source": [
        "# Creating first Class Employee\n",
        "\n",
        "class Employee:\n",
        "  pass\n",
        "\n",
        "\n",
        "emp_1 = Employee()\n",
        "\n",
        "emp_2 = Employee()\n",
        "\n",
        "\n",
        "print(emp_1)\n",
        "print(emp_2)"
      ],
      "metadata": {
        "id": "UwmkKKqjVumU",
        "colab": {
          "base_uri": "https://localhost:8080/"
        },
        "outputId": "b90d5867-c9ed-483d-be01-0206f7e10d86"
      },
      "execution_count": 2,
      "outputs": [
        {
          "output_type": "stream",
          "name": "stdout",
          "text": [
            "<__main__.Employee object at 0x7b4d90123910>\n",
            "<__main__.Employee object at 0x7b4d901238b0>\n"
          ]
        }
      ]
    }
  ]
}