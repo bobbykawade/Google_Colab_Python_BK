{
  "nbformat": 4,
  "nbformat_minor": 0,
  "metadata": {
    "colab": {
      "provenance": [],
      "authorship_tag": "ABX9TyP/xTQJ+oY8qDa97WFymGat",
      "include_colab_link": true
    },
    "kernelspec": {
      "name": "python3",
      "display_name": "Python 3"
    },
    "language_info": {
      "name": "python"
    }
  },
  "cells": [
    {
      "cell_type": "markdown",
      "metadata": {
        "id": "view-in-github",
        "colab_type": "text"
      },
      "source": [
        "<a href=\"https://colab.research.google.com/github/bobbykawade/Google_Colab_Python_Practice_BK/blob/main/Object_Oriented_Programming_(OOP).ipynb\" target=\"_parent\"><img src=\"https://colab.research.google.com/assets/colab-badge.svg\" alt=\"Open In Colab\"/></a>"
      ]
    },
    {
      "cell_type": "markdown",
      "source": [
        "# First Lecture Cody Schafer (Youtube) {Classes & Instances}\n",
        "#### https://www.youtube.com/watch?v=ZDa-Z5JzLYM&list=PL-osiE80TeTsqhIuOqKhwlXsIBIdSeYtc"
      ],
      "metadata": {
        "id": "DmtLFp_l1sdG"
      }
    },
    {
      "cell_type": "code",
      "source": [
        "# Creating first Class Employee\n",
        "\n",
        "class Employee:\n",
        "  pass\n",
        "\n",
        "\n",
        "emp_1 = Employee()\n",
        "\n",
        "emp_2 = Employee()\n",
        "\n",
        "\n",
        "print(emp_1)\n",
        "print(emp_2)\n",
        "\n",
        "\n",
        "emp_1.first = 'Corey'\n",
        "emp_1.last = 'Schafer'\n",
        "emp_1.emailid = 'corey.schafer@gmail.com'\n",
        "emp_1.pay = 50000\n",
        "\n",
        "emp_2.first = 'Test'\n",
        "emp_2.last = 'User'\n",
        "emp_2.emailid = 'test.user@gmail.com'\n",
        "emp_2.pay = 60000\n",
        "\n",
        "print(emp_1.emailid)\n",
        "print(emp_2.emailid)"
      ],
      "metadata": {
        "id": "UwmkKKqjVumU",
        "colab": {
          "base_uri": "https://localhost:8080/"
        },
        "outputId": "63c02e41-77a0-4148-b575-2e2186f8f76c"
      },
      "execution_count": 4,
      "outputs": [
        {
          "output_type": "stream",
          "name": "stdout",
          "text": [
            "<__main__.Employee object at 0x7b4d90121ab0>\n",
            "<__main__.Employee object at 0x7b4d901233d0>\n",
            "corey.schafer@gmail.com\n",
            "test.user@gmail.com\n"
          ]
        }
      ]
    },
    {
      "cell_type": "code",
      "source": [
        "# Above thing we do it using Init & Self Method which is\n",
        "# useful as  it is not feasible with calling too many name\n",
        "\n",
        "class Employee:\n",
        "\n",
        "  def __init__(self, first, last, pay):\n",
        "    self.first = first\n",
        "    self.last = last\n",
        "    self.pay = pay\n",
        "    self.emailid = first + '.' + last + '@gmail.com'\n",
        "\n",
        "\n",
        "  def fullname(self):\n",
        "    return '{} {}'.format(self.first, self.last)\n",
        "\n",
        "\n",
        "emp_1 = Employee('Corey', 'Schafer', 50000)\n",
        "\n",
        "emp_2 = Employee('Test', 'User', 60000)\n",
        "\n",
        "\n",
        "#print(emp_1)\n",
        "#print(emp_2)\n",
        "\n",
        "\n",
        "# print(emp_1.emailid)\n",
        "# print(emp_2.emailid)\n",
        "# print(emp_1.fullname())\n",
        "\n",
        "\n",
        "#print('{} {}'.format(emp_1.first, emp_1.last))\n",
        "\n",
        "# For tacking this we created a method full name\n",
        "\n",
        "emp_1.fullname()\n",
        "print(Employee.fullname(emp_1))\n"
      ],
      "metadata": {
        "colab": {
          "base_uri": "https://localhost:8080/"
        },
        "id": "BXNzEZFM4uIn",
        "outputId": "e19d305c-07ec-4529-bf78-fa89e778177e"
      },
      "execution_count": 10,
      "outputs": [
        {
          "output_type": "stream",
          "name": "stdout",
          "text": [
            "Corey Schafer\n"
          ]
        }
      ]
    }
  ]
}