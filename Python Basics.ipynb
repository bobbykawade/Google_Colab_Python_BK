{
  "nbformat": 4,
  "nbformat_minor": 0,
  "metadata": {
    "colab": {
      "provenance": [],
      "authorship_tag": "ABX9TyPqhRDE2M4nUUetK/MzjqgS",
      "include_colab_link": true
    },
    "kernelspec": {
      "name": "python3",
      "display_name": "Python 3"
    },
    "language_info": {
      "name": "python"
    }
  },
  "cells": [
    {
      "cell_type": "markdown",
      "metadata": {
        "id": "view-in-github",
        "colab_type": "text"
      },
      "source": [
        "<a href=\"https://colab.research.google.com/github/bobbykawade/Google_Colab_Python_Practice_BK/blob/main/Python%20Basics.ipynb\" target=\"_parent\"><img src=\"https://colab.research.google.com/assets/colab-badge.svg\" alt=\"Open In Colab\"/></a>"
      ]
    },
    {
      "cell_type": "code",
      "execution_count": null,
      "metadata": {
        "id": "LIW5pfHeU_m7",
        "colab": {
          "base_uri": "https://localhost:8080/"
        },
        "outputId": "a34f0d41-af46-4390-e40f-972f3dfdb327"
      },
      "outputs": [
        {
          "output_type": "stream",
          "name": "stdout",
          "text": [
            "Hello World\n"
          ]
        }
      ],
      "source": [
        "#Running my first code\n",
        "var = \"Hello World\"\n",
        "print(var)"
      ]
    },
    {
      "cell_type": "code",
      "source": [
        "# Creating a Dataframe\n",
        "\n",
        "import pandas as pd\n",
        "import numpy as np"
      ],
      "metadata": {
        "id": "UwmkKKqjVumU"
      },
      "execution_count": 6,
      "outputs": []
    },
    {
      "cell_type": "code",
      "source": [
        "dict1 = {'id':[1,2,3,4,5], 'Name': ['Rahul', 'Amit', 'Aman', 'Mitali', 'Bob']}\n",
        "df = pd.DataFrame(dict1)\n",
        "print(df)"
      ],
      "metadata": {
        "colab": {
          "base_uri": "https://localhost:8080/"
        },
        "id": "-U2_yVFiXp4C",
        "outputId": "9f6a9b23-ee9e-4cdd-8a13-bac70317a9b7"
      },
      "execution_count": 9,
      "outputs": [
        {
          "output_type": "stream",
          "name": "stdout",
          "text": [
            "   id    Name\n",
            "0   1   Rahul\n",
            "1   2    Amit\n",
            "2   3    Aman\n",
            "3   4  Mitali\n",
            "4   5     Bob\n"
          ]
        }
      ]
    },
    {
      "cell_type": "markdown",
      "source": [
        "# List"
      ],
      "metadata": {
        "id": "D5MRHm6h5Q3d"
      }
    },
    {
      "cell_type": "code",
      "source": [
        "li = [1,2,3,4,5,6,7,8,9,10]\n",
        "li"
      ],
      "metadata": {
        "colab": {
          "base_uri": "https://localhost:8080/"
        },
        "id": "7CgzA5aE5UJD",
        "outputId": "0ff07843-5cd5-4166-b3de-509ad8a3d2b2"
      },
      "execution_count": 10,
      "outputs": [
        {
          "output_type": "execute_result",
          "data": {
            "text/plain": [
              "[1, 2, 3, 4, 5, 6, 7, 8, 9, 10]"
            ]
          },
          "metadata": {},
          "execution_count": 10
        }
      ]
    },
    {
      "cell_type": "code",
      "source": [
        "li.pop()"
      ],
      "metadata": {
        "colab": {
          "base_uri": "https://localhost:8080/"
        },
        "id": "gfKsX8ij5a6w",
        "outputId": "6e0302eb-3e0d-43e7-c8e3-83968c32564f"
      },
      "execution_count": 11,
      "outputs": [
        {
          "output_type": "execute_result",
          "data": {
            "text/plain": [
              "10"
            ]
          },
          "metadata": {},
          "execution_count": 11
        }
      ]
    },
    {
      "cell_type": "code",
      "source": [
        "li"
      ],
      "metadata": {
        "colab": {
          "base_uri": "https://localhost:8080/"
        },
        "id": "nB38Hvq_5ftv",
        "outputId": "c8a34a5c-6789-4c20-ed41-2f2fa0ecab5f"
      },
      "execution_count": 12,
      "outputs": [
        {
          "output_type": "execute_result",
          "data": {
            "text/plain": [
              "[1, 2, 3, 4, 5, 6, 7, 8, 9]"
            ]
          },
          "metadata": {},
          "execution_count": 12
        }
      ]
    },
    {
      "cell_type": "code",
      "source": [
        "li.append(10)\n",
        "li"
      ],
      "metadata": {
        "colab": {
          "base_uri": "https://localhost:8080/"
        },
        "id": "QRLly1U_5h0h",
        "outputId": "b737244f-3ab1-4d1c-da5d-063bab9bcbec"
      },
      "execution_count": 14,
      "outputs": [
        {
          "output_type": "execute_result",
          "data": {
            "text/plain": [
              "[1, 2, 3, 4, 5, 6, 7, 8, 9, 10, 10]"
            ]
          },
          "metadata": {},
          "execution_count": 14
        }
      ]
    },
    {
      "cell_type": "code",
      "source": [
        "li.pop(10)\n",
        "li"
      ],
      "metadata": {
        "colab": {
          "base_uri": "https://localhost:8080/"
        },
        "id": "j_BzPoEs5mRI",
        "outputId": "50a079cb-f645-40ae-c9ec-553df589a8dc"
      },
      "execution_count": 15,
      "outputs": [
        {
          "output_type": "execute_result",
          "data": {
            "text/plain": [
              "[1, 2, 3, 4, 5, 6, 7, 8, 9, 10]"
            ]
          },
          "metadata": {},
          "execution_count": 15
        }
      ]
    },
    {
      "cell_type": "markdown",
      "source": [
        "## If Else Condition Practice"
      ],
      "metadata": {
        "id": "Juq8PgyH3uS_"
      }
    },
    {
      "cell_type": "code",
      "source": [
        "Age = 20\n",
        "\n",
        "if (Age > 21):\n",
        "   print(\"Eligible for Voting\")\n",
        "\n",
        "else:\n",
        "  print(\"Not Eligible\")"
      ],
      "metadata": {
        "colab": {
          "base_uri": "https://localhost:8080/"
        },
        "id": "brKwc3Lc3zYP",
        "outputId": "144598f5-21dc-4fd4-e1d7-1dfaef611b06"
      },
      "execution_count": 7,
      "outputs": [
        {
          "output_type": "stream",
          "name": "stdout",
          "text": [
            "Not Eligible\n"
          ]
        }
      ]
    },
    {
      "cell_type": "code",
      "source": [
        "Age = int(input(\"Enter the Age: \"))\n",
        "\n",
        "if (Age > 21):\n",
        "   print(\"Eligible for Voting\")\n",
        "\n",
        "else:\n",
        "  print(\"Not Eligible\")"
      ],
      "metadata": {
        "colab": {
          "base_uri": "https://localhost:8080/"
        },
        "id": "BJSEIUMr49WL",
        "outputId": "5e8c8f48-5130-43c4-ec70-900bed440ffd"
      },
      "execution_count": 10,
      "outputs": [
        {
          "output_type": "stream",
          "name": "stdout",
          "text": [
            "Enter the Age: 34\n",
            "Eligible for Voting\n"
          ]
        }
      ]
    },
    {
      "cell_type": "code",
      "source": [
        "# Print the Marks as well as the Percentage\n",
        "\n",
        "marks = int(input(\"Enter your marks: \"))\n",
        "passing = 40\n",
        "\n",
        "if (marks > 40):\n",
        "  percentage = (marks/100)*100\n",
        "  print(\"You are passed with percentage:\", percentage)\n",
        "else:\n",
        "  print(\"You are not passed\")"
      ],
      "metadata": {
        "colab": {
          "base_uri": "https://localhost:8080/"
        },
        "id": "j5W0L39i59lR",
        "outputId": "e5b82efc-021d-449d-9d9d-12e5a9d5525b"
      },
      "execution_count": 14,
      "outputs": [
        {
          "output_type": "stream",
          "name": "stdout",
          "text": [
            "Enter your marks: 57\n",
            "You are passed with percentage: 56.99999999999999\n"
          ]
        }
      ]
    },
    {
      "cell_type": "code",
      "source": [
        "# Applying more than one condition\n",
        "\n",
        "color = input('My Favorite color' )\n",
        "\n",
        "if ((color == 'red') or (color == 'green') or (color == 'blue')):\n",
        "  print('My favorite color')\n",
        "\n",
        "else:\n",
        "  print('Not my favorite color')"
      ],
      "metadata": {
        "colab": {
          "base_uri": "https://localhost:8080/"
        },
        "id": "yuwG5Chb7jG6",
        "outputId": "9c950c22-1586-41f4-986f-9685596fac38"
      },
      "execution_count": 18,
      "outputs": [
        {
          "output_type": "stream",
          "name": "stdout",
          "text": [
            "My Favorite colorgreen\n",
            "My favorite color\n"
          ]
        }
      ]
    },
    {
      "cell_type": "code",
      "source": [
        "# if num is in between [1,10] then square it, if num is in between [11,20] then cube it else print the number\n",
        "\n",
        "num = int(input(\"Enter the number: \" ))\n",
        "\n",
        "if ((num >= 1) and (num<= 10)):\n",
        "  res = num ** 2\n",
        "  print(\"The result is square of: \",res)\n",
        "\n",
        "elif ((num>= 11) and (num<= 20)):\n",
        "  res = num ** 3\n",
        "  print(\"The Result is cube of: \",res)\n",
        "\n",
        "else:\n",
        "  print(\"The result is: \",num)"
      ],
      "metadata": {
        "colab": {
          "base_uri": "https://localhost:8080/"
        },
        "id": "6Ybpr3PG9zKz",
        "outputId": "03dc620c-68e9-4ed9-c854-6d37bc66d847"
      },
      "execution_count": 24,
      "outputs": [
        {
          "output_type": "stream",
          "name": "stdout",
          "text": [
            "Enter the number: 5\n",
            "The result is square of:  25\n"
          ]
        }
      ]
    },
    {
      "cell_type": "markdown",
      "source": [
        "## Loops"
      ],
      "metadata": {
        "id": "AGPP8oUZCASA"
      }
    },
    {
      "cell_type": "code",
      "source": [
        "# Print 5 times Hello World\n",
        "\n",
        "for i in range(1,6):\n",
        "  print(\"Hello World\")"
      ],
      "metadata": {
        "colab": {
          "base_uri": "https://localhost:8080/"
        },
        "id": "UwsSIsvCCB8P",
        "outputId": "10600442-eabb-49b6-815e-2d729d096917"
      },
      "execution_count": 25,
      "outputs": [
        {
          "output_type": "stream",
          "name": "stdout",
          "text": [
            "Hello World\n",
            "Hello World\n",
            "Hello World\n",
            "Hello World\n",
            "Hello World\n"
          ]
        }
      ]
    },
    {
      "cell_type": "code",
      "source": [
        "# Take the number from the users\n",
        "\n",
        "n = int(input(\"Enter the total number you want in the list \"))\n",
        "li = []\n",
        "for i in range(1, (n+1)):\n",
        "  num = int(input(\"Enter the number you wish to add \"))\n",
        "  li.append(num)"
      ],
      "metadata": {
        "colab": {
          "base_uri": "https://localhost:8080/"
        },
        "id": "RXCgo5wMC55h",
        "outputId": "286a00e9-0d21-4858-ea33-10c42b6ef67f"
      },
      "execution_count": 29,
      "outputs": [
        {
          "name": "stdout",
          "output_type": "stream",
          "text": [
            "Enter the total number you want in the list 5\n",
            "Enter the number you wish to add 1\n",
            "Enter the number you wish to add 2\n",
            "Enter the number you wish to add 3\n",
            "Enter the number you wish to add 4\n",
            "Enter the number you wish to add 5\n"
          ]
        }
      ]
    },
    {
      "cell_type": "code",
      "source": [
        "print(li)"
      ],
      "metadata": {
        "colab": {
          "base_uri": "https://localhost:8080/"
        },
        "id": "r44liYjSD984",
        "outputId": "bc66081b-8801-41bd-f4e0-b9119447d602"
      },
      "execution_count": 30,
      "outputs": [
        {
          "output_type": "stream",
          "name": "stdout",
          "text": [
            "[1, 2, 3, 4, 5]\n"
          ]
        }
      ]
    },
    {
      "cell_type": "code",
      "source": [
        "# Add [1,50] in the list\n",
        "\n",
        "li = []\n",
        "for i in range(1,51):\n",
        "  print(i)\n",
        "  li.append(i)"
      ],
      "metadata": {
        "id": "nR497R_xFIZa"
      },
      "execution_count": null,
      "outputs": []
    },
    {
      "cell_type": "code",
      "source": [
        "#print(li)\n",
        "len(li)"
      ],
      "metadata": {
        "colab": {
          "base_uri": "https://localhost:8080/"
        },
        "id": "F6efB2LsFgEL",
        "outputId": "73367da2-9d87-4b53-c218-2e4252086ddb"
      },
      "execution_count": 33,
      "outputs": [
        {
          "output_type": "execute_result",
          "data": {
            "text/plain": [
              "50"
            ]
          },
          "metadata": {},
          "execution_count": 33
        }
      ]
    },
    {
      "cell_type": "code",
      "source": [
        "# Print all odd numbers between [1,10]\n",
        "\n",
        "for j in range(1,10,2):\n",
        "  print(j)"
      ],
      "metadata": {
        "colab": {
          "base_uri": "https://localhost:8080/"
        },
        "id": "_e3X9CtoF47f",
        "outputId": "7176710a-4acd-403e-9de2-bc0cf5a2ecc0"
      },
      "execution_count": 35,
      "outputs": [
        {
          "output_type": "stream",
          "name": "stdout",
          "text": [
            "1\n",
            "3\n",
            "5\n",
            "7\n",
            "9\n"
          ]
        }
      ]
    },
    {
      "cell_type": "code",
      "source": [
        "# Print all even numbers between [0,10]\n",
        "\n",
        "for e in range(0,11,2):\n",
        "  print(e)"
      ],
      "metadata": {
        "colab": {
          "base_uri": "https://localhost:8080/"
        },
        "id": "pY7WRGzLGHWf",
        "outputId": "d8ad826e-5b2b-4f38-8619-50500ac7f7f6"
      },
      "execution_count": 36,
      "outputs": [
        {
          "output_type": "stream",
          "name": "stdout",
          "text": [
            "0\n",
            "2\n",
            "4\n",
            "6\n",
            "8\n",
            "10\n"
          ]
        }
      ]
    },
    {
      "cell_type": "code",
      "source": [
        "# Nested Loop\n",
        "\n",
        "for i in range(1,6):\n",
        "  for j in range(1,6):\n",
        "    print(\"The value of i: \", i)\n",
        "    print(\"The value of j:\", j)\n",
        "  print(\"-------------------------\")\n",
        ""
      ],
      "metadata": {
        "id": "kgomxHhEHU3w"
      },
      "execution_count": null,
      "outputs": []
    },
    {
      "cell_type": "code",
      "source": [
        "#\n",
        "#Print this pattern\n",
        "# *\n",
        "# * *\n",
        "# * * *\n",
        "# * * * *\n",
        "# * * * *\n",
        "#5-0 = 5, 6-1 =5\n",
        "\n",
        "rows = 5\n",
        "column = 5\n",
        "\n",
        "for i in range(1,6):\n",
        "  for j in range (1, (i+1)):\n",
        "    print(\"*\", end=\" \")\n",
        "  print()"
      ],
      "metadata": {
        "colab": {
          "base_uri": "https://localhost:8080/"
        },
        "id": "g8OPUSCzJGLj",
        "outputId": "fa2efca2-f9ce-42bb-fdb0-c9e3090e1bb6"
      },
      "execution_count": 45,
      "outputs": [
        {
          "output_type": "stream",
          "name": "stdout",
          "text": [
            "* \n",
            "* * \n",
            "* * * \n",
            "* * * * \n",
            "* * * * * \n"
          ]
        }
      ]
    },
    {
      "cell_type": "code",
      "source": [
        "# Access the value in the list\n",
        "l = [1,2,3,4,5]\n",
        "\n",
        "for i in range(0, len(l)):\n",
        "  l[i] = l[i]** 2\n",
        "\n",
        "print(l)\n",
        "print(l[i])"
      ],
      "metadata": {
        "colab": {
          "base_uri": "https://localhost:8080/"
        },
        "id": "A5rgTmgDK3YD",
        "outputId": "6fed278d-da1a-4c7b-e410-53df2915722c"
      },
      "execution_count": 49,
      "outputs": [
        {
          "output_type": "stream",
          "name": "stdout",
          "text": [
            "[1, 4, 9, 16, 25]\n",
            "25\n"
          ]
        }
      ]
    },
    {
      "cell_type": "markdown",
      "source": [
        "## While loop\n",
        "\n",
        "### Applied whenever you don't know how many times you are running the loop"
      ],
      "metadata": {
        "id": "bAIKnfb1NJcU"
      }
    },
    {
      "cell_type": "code",
      "source": [
        "ch = \"y\"\n",
        "\n",
        "while (ch == \"y\"):\n",
        "  print(\"Let's play the game\" )\n",
        "  ch = input(\"Enter your choice to play the game y/n \")"
      ],
      "metadata": {
        "id": "UWy3asO1NYRh",
        "outputId": "cf5ff995-7a19-4062-9d47-c515a50191bf",
        "colab": {
          "base_uri": "https://localhost:8080/"
        }
      },
      "execution_count": 50,
      "outputs": [
        {
          "name": "stdout",
          "output_type": "stream",
          "text": [
            "Let's play the game\n",
            "Enter your choice to play the game y/n y\n",
            "Let's play the game\n",
            "Enter your choice to play the game y/n y\n",
            "Let's play the game\n",
            "Enter your choice to play the game y/n n\n"
          ]
        }
      ]
    },
    {
      "cell_type": "code",
      "source": [
        "##\n",
        "\n",
        "num = 1\n",
        "\n",
        "while (num<= 6):\n",
        "  print(num)\n",
        "  num = num + 1"
      ],
      "metadata": {
        "id": "wfFkuUMLNVl6",
        "outputId": "3f8e1a77-1f7f-4944-fe94-54e840195d61",
        "colab": {
          "base_uri": "https://localhost:8080/"
        }
      },
      "execution_count": 58,
      "outputs": [
        {
          "output_type": "stream",
          "name": "stdout",
          "text": [
            "1\n",
            "2\n",
            "3\n",
            "4\n",
            "5\n",
            "6\n"
          ]
        }
      ]
    },
    {
      "cell_type": "code",
      "source": [
        "# Break Condition - exits the loop prematurely\n",
        "\n",
        "val = int(input(\"Enter the number \"))\n",
        "num = 1\n",
        "\n",
        "while (num<= 10):\n",
        "  if (num == val):\n",
        "    break\n",
        "  else:\n",
        "    print(num)\n",
        "  num = num + 1"
      ],
      "metadata": {
        "id": "U3cC-WLqP8uZ",
        "outputId": "536891c4-1c36-4948-ae56-d7457fc5eef2",
        "colab": {
          "base_uri": "https://localhost:8080/"
        }
      },
      "execution_count": 60,
      "outputs": [
        {
          "output_type": "stream",
          "name": "stdout",
          "text": [
            "Enter the number 5\n",
            "1\n",
            "2\n",
            "3\n",
            "4\n"
          ]
        }
      ]
    },
    {
      "cell_type": "code",
      "source": [
        "# Continue Condition - skips the current iteration\n",
        "\n",
        "val1 = 5\n",
        "\n",
        "for i in range(1,11):\n",
        "  if (i==val1):\n",
        "    continue\n",
        "  else:\n",
        "    print(i)\n"
      ],
      "metadata": {
        "id": "fqrsk7W3Qj8U",
        "outputId": "9a3711b6-9691-4187-fa95-94192431c539",
        "colab": {
          "base_uri": "https://localhost:8080/"
        }
      },
      "execution_count": 61,
      "outputs": [
        {
          "output_type": "stream",
          "name": "stdout",
          "text": [
            "1\n",
            "2\n",
            "3\n",
            "4\n",
            "6\n",
            "7\n",
            "8\n",
            "9\n",
            "10\n"
          ]
        }
      ]
    }
  ]
}