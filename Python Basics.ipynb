{
  "nbformat": 4,
  "nbformat_minor": 0,
  "metadata": {
    "colab": {
      "provenance": [],
      "authorship_tag": "ABX9TyOxZ9BE4eUapJ5i8V+rcDj8",
      "include_colab_link": true
    },
    "kernelspec": {
      "name": "python3",
      "display_name": "Python 3"
    },
    "language_info": {
      "name": "python"
    }
  },
  "cells": [
    {
      "cell_type": "markdown",
      "metadata": {
        "id": "view-in-github",
        "colab_type": "text"
      },
      "source": [
        "<a href=\"https://colab.research.google.com/github/bobbykawade/Google_Colab_Python_BK/blob/main/Python%20Basics.ipynb\" target=\"_parent\"><img src=\"https://colab.research.google.com/assets/colab-badge.svg\" alt=\"Open In Colab\"/></a>"
      ]
    },
    {
      "cell_type": "code",
      "execution_count": null,
      "metadata": {
        "id": "LIW5pfHeU_m7",
        "colab": {
          "base_uri": "https://localhost:8080/"
        },
        "outputId": "a34f0d41-af46-4390-e40f-972f3dfdb327"
      },
      "outputs": [
        {
          "output_type": "stream",
          "name": "stdout",
          "text": [
            "Hello World\n"
          ]
        }
      ],
      "source": [
        "#Running my first code\n",
        "var = \"Hello World\"\n",
        "print(var)"
      ]
    },
    {
      "cell_type": "code",
      "source": [
        "# Creating a Dataframe\n",
        "\n",
        "import pandas as pd\n",
        "import numpy as np"
      ],
      "metadata": {
        "id": "UwmkKKqjVumU"
      },
      "execution_count": 6,
      "outputs": []
    },
    {
      "cell_type": "code",
      "source": [
        "dict1 = {'id':[1,2,3,4,5], 'Name': ['Rahul', 'Amit', 'Aman', 'Mitali', 'Bob']}\n",
        "df = pd.DataFrame(dict1)\n",
        "print(df)"
      ],
      "metadata": {
        "colab": {
          "base_uri": "https://localhost:8080/"
        },
        "id": "-U2_yVFiXp4C",
        "outputId": "9f6a9b23-ee9e-4cdd-8a13-bac70317a9b7"
      },
      "execution_count": 9,
      "outputs": [
        {
          "output_type": "stream",
          "name": "stdout",
          "text": [
            "   id    Name\n",
            "0   1   Rahul\n",
            "1   2    Amit\n",
            "2   3    Aman\n",
            "3   4  Mitali\n",
            "4   5     Bob\n"
          ]
        }
      ]
    },
    {
      "cell_type": "markdown",
      "source": [
        "# List"
      ],
      "metadata": {
        "id": "D5MRHm6h5Q3d"
      }
    },
    {
      "cell_type": "code",
      "source": [
        "li = [1,2,3,4,5,6,7,8,9,10]\n",
        "li"
      ],
      "metadata": {
        "colab": {
          "base_uri": "https://localhost:8080/"
        },
        "id": "7CgzA5aE5UJD",
        "outputId": "0ff07843-5cd5-4166-b3de-509ad8a3d2b2"
      },
      "execution_count": 10,
      "outputs": [
        {
          "output_type": "execute_result",
          "data": {
            "text/plain": [
              "[1, 2, 3, 4, 5, 6, 7, 8, 9, 10]"
            ]
          },
          "metadata": {},
          "execution_count": 10
        }
      ]
    },
    {
      "cell_type": "code",
      "source": [
        "li.pop()"
      ],
      "metadata": {
        "colab": {
          "base_uri": "https://localhost:8080/"
        },
        "id": "gfKsX8ij5a6w",
        "outputId": "6e0302eb-3e0d-43e7-c8e3-83968c32564f"
      },
      "execution_count": 11,
      "outputs": [
        {
          "output_type": "execute_result",
          "data": {
            "text/plain": [
              "10"
            ]
          },
          "metadata": {},
          "execution_count": 11
        }
      ]
    },
    {
      "cell_type": "code",
      "source": [
        "li"
      ],
      "metadata": {
        "colab": {
          "base_uri": "https://localhost:8080/"
        },
        "id": "nB38Hvq_5ftv",
        "outputId": "c8a34a5c-6789-4c20-ed41-2f2fa0ecab5f"
      },
      "execution_count": 12,
      "outputs": [
        {
          "output_type": "execute_result",
          "data": {
            "text/plain": [
              "[1, 2, 3, 4, 5, 6, 7, 8, 9]"
            ]
          },
          "metadata": {},
          "execution_count": 12
        }
      ]
    },
    {
      "cell_type": "code",
      "source": [
        "li.append(10)\n",
        "li"
      ],
      "metadata": {
        "colab": {
          "base_uri": "https://localhost:8080/"
        },
        "id": "QRLly1U_5h0h",
        "outputId": "b737244f-3ab1-4d1c-da5d-063bab9bcbec"
      },
      "execution_count": 14,
      "outputs": [
        {
          "output_type": "execute_result",
          "data": {
            "text/plain": [
              "[1, 2, 3, 4, 5, 6, 7, 8, 9, 10, 10]"
            ]
          },
          "metadata": {},
          "execution_count": 14
        }
      ]
    },
    {
      "cell_type": "code",
      "source": [
        "li.pop(10)\n",
        "li"
      ],
      "metadata": {
        "colab": {
          "base_uri": "https://localhost:8080/"
        },
        "id": "j_BzPoEs5mRI",
        "outputId": "50a079cb-f645-40ae-c9ec-553df589a8dc"
      },
      "execution_count": 15,
      "outputs": [
        {
          "output_type": "execute_result",
          "data": {
            "text/plain": [
              "[1, 2, 3, 4, 5, 6, 7, 8, 9, 10]"
            ]
          },
          "metadata": {},
          "execution_count": 15
        }
      ]
    },
    {
      "cell_type": "markdown",
      "source": [
        "## If Else Condition Practice"
      ],
      "metadata": {
        "id": "Juq8PgyH3uS_"
      }
    },
    {
      "cell_type": "code",
      "source": [
        "Age = 20\n",
        "\n",
        "if (Age > 21):\n",
        "   print(\"Eligible for Voting\")\n",
        "\n",
        "else:\n",
        "  print(\"Not Eligible\")"
      ],
      "metadata": {
        "colab": {
          "base_uri": "https://localhost:8080/"
        },
        "id": "brKwc3Lc3zYP",
        "outputId": "144598f5-21dc-4fd4-e1d7-1dfaef611b06"
      },
      "execution_count": 7,
      "outputs": [
        {
          "output_type": "stream",
          "name": "stdout",
          "text": [
            "Not Eligible\n"
          ]
        }
      ]
    },
    {
      "cell_type": "code",
      "source": [
        "Age = int(input(\"Enter the Age: \"))\n",
        "\n",
        "if (Age > 21):\n",
        "   print(\"Eligible for Voting\")\n",
        "\n",
        "else:\n",
        "  print(\"Not Eligible\")"
      ],
      "metadata": {
        "colab": {
          "base_uri": "https://localhost:8080/"
        },
        "id": "BJSEIUMr49WL",
        "outputId": "5e8c8f48-5130-43c4-ec70-900bed440ffd"
      },
      "execution_count": 10,
      "outputs": [
        {
          "output_type": "stream",
          "name": "stdout",
          "text": [
            "Enter the Age: 34\n",
            "Eligible for Voting\n"
          ]
        }
      ]
    },
    {
      "cell_type": "code",
      "source": [
        "# Print the Marks as well as the Percentage\n",
        "\n",
        "marks = int(input(\"Enter your marks: \"))\n",
        "passing = 40\n",
        "\n",
        "if (marks > 40):\n",
        "  percentage = (marks/100)*100\n",
        "  print(\"You are passed with percentage:\", percentage)\n",
        "else:\n",
        "  print(\"You are not passed\")"
      ],
      "metadata": {
        "id": "j5W0L39i59lR",
        "outputId": "e5b82efc-021d-449d-9d9d-12e5a9d5525b",
        "colab": {
          "base_uri": "https://localhost:8080/"
        }
      },
      "execution_count": 14,
      "outputs": [
        {
          "output_type": "stream",
          "name": "stdout",
          "text": [
            "Enter your marks: 57\n",
            "You are passed with percentage: 56.99999999999999\n"
          ]
        }
      ]
    }
  ]
}