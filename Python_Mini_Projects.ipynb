{
  "nbformat": 4,
  "nbformat_minor": 0,
  "metadata": {
    "colab": {
      "provenance": [],
      "authorship_tag": "ABX9TyPb5K4Rwg07XRT9dZOwWs0l",
      "include_colab_link": true
    },
    "kernelspec": {
      "name": "python3",
      "display_name": "Python 3"
    },
    "language_info": {
      "name": "python"
    }
  },
  "cells": [
    {
      "cell_type": "markdown",
      "metadata": {
        "id": "view-in-github",
        "colab_type": "text"
      },
      "source": [
        "<a href=\"https://colab.research.google.com/github/bobbykawade/Google_Colab_Python_Practice_BK/blob/main/Python_Mini_Projects.ipynb\" target=\"_parent\"><img src=\"https://colab.research.google.com/assets/colab-badge.svg\" alt=\"Open In Colab\"/></a>"
      ]
    },
    {
      "cell_type": "markdown",
      "source": [
        "### 1.First Project : Write a. Number to show such type of layout & square expected results"
      ],
      "metadata": {
        "id": "_5DhaY5qr95j"
      }
    },
    {
      "cell_type": "code",
      "source": [
        "print(\"Number \\t\\t Square\")\n",
        "print(\"1 \\t\\t \"+str(1*1))\n",
        "print(\"2 \\t\\t \"+str(2*2))\n",
        "print(\"3 \\t\\t \"+str(3*3))\n",
        "print(\"4 \\t\\t \"+str(4*4))\n",
        "print(\"5 \\t\\t \"+str(5*5))"
      ],
      "metadata": {
        "colab": {
          "base_uri": "https://localhost:8080/"
        },
        "id": "UGna4a9Ptc6I",
        "outputId": "07f098cd-d458-4b51-80a9-c9d2a7377343"
      },
      "execution_count": 1,
      "outputs": [
        {
          "output_type": "stream",
          "name": "stdout",
          "text": [
            "Number \t\t Square\n",
            "1 \t\t 1\n",
            "2 \t\t 4\n",
            "3 \t\t 9\n",
            "4 \t\t 16\n",
            "5 \t\t 25\n"
          ]
        }
      ]
    }
  ]
}